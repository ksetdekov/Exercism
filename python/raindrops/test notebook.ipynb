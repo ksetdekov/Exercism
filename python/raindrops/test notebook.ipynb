{
 "cells": [
  {
   "cell_type": "code",
   "execution_count": 1,
   "metadata": {},
   "outputs": [
    {
     "name": "stdout",
     "output_type": "stream",
     "text": [
      "False\n",
      "#########################\n",
      "1\n",
      "2\n",
      "False\n",
      "4\n",
      "False\n",
      "False\n",
      "False\n",
      "8\n",
      "False\n",
      "False\n",
      "11\n",
      "False\n",
      "13\n",
      "False\n",
      "False\n",
      "16\n",
      "17\n",
      "False\n",
      "19\n",
      "False\n",
      "False\n"
     ]
    }
   ],
   "source": [
    "def convert(n):\n",
    "\n",
    "    # 3 Pling\n",
    "    # 5 Plang\n",
    "    # 7 Pl0ng\n",
    "\n",
    "    p1 = False\n",
    "    p2 = False\n",
    "    p3 = False\n",
    "    if (n % 3) == 0:\n",
    "        p1 = True\n",
    "    if (n % 5) == 0:\n",
    "        p2 = True\n",
    "    if (n % 7) == 0:\n",
    "        p3 = True\n",
    "    test = [p1,p2,p3]\n",
    "\n",
    "    final = not any(test)\n",
    "    if not any(test):\n",
    "        final = n\n",
    "\n",
    "    return final\n",
    "\n",
    "test = [True,True,True]\n",
    "print(not any(test))\n",
    "print(\"#########################\")\n",
    "print(convert(1))\n",
    "print(convert(2))\n",
    "print(convert(3))\n",
    "print(convert(4))\n",
    "print(convert(5))\n",
    "print(convert(6))\n",
    "print(convert(7))\n",
    "print(convert(8))\n",
    "print(convert(9))\n",
    "print(convert(10))\n",
    "print(convert(11))\n",
    "print(convert(12))\n",
    "print(convert(13))\n",
    "print(convert(14))\n",
    "print(convert(15))\n",
    "print(convert(16))\n",
    "print(convert(17))\n",
    "print(convert(18))\n",
    "print(convert(19))\n",
    "print(convert(20))\n",
    "print(convert(21))"
   ]
  }
 ],
 "metadata": {
  "kernelspec": {
   "display_name": "Python 3",
   "language": "python",
   "name": "python3"
  },
  "language_info": {
   "codemirror_mode": {
    "name": "ipython",
    "version": 3
   },
   "file_extension": ".py",
   "mimetype": "text/x-python",
   "name": "python",
   "nbconvert_exporter": "python",
   "pygments_lexer": "ipython3",
   "version": "3.7.3"
  }
 },
 "nbformat": 4,
 "nbformat_minor": 2
}
